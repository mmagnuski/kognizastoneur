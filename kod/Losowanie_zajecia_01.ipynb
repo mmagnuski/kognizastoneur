{
 "cells": [
  {
   "cell_type": "code",
   "execution_count": 1,
   "metadata": {
    "collapsed": true
   },
   "outputs": [],
   "source": [
    "import os\n",
    "import pandas as pd"
   ]
  },
  {
   "cell_type": "code",
   "execution_count": 2,
   "metadata": {
    "collapsed": false
   },
   "outputs": [
    {
     "name": "stdout",
     "output_type": "stream",
     "text": [
      " Wolumin w stacji E nie ma etykiety.\n",
      " Numer seryjny woluminu: 1D13-4B00\n",
      "\n",
      " Katalog: e:\\PROJ\\EDU\\kogni\\kod\n",
      "\n",
      "2016-03-01  16:29    <DIR>          .\n",
      "2016-03-01  16:29    <DIR>          ..\n",
      "2016-03-01  16:29    <DIR>          .ipynb_checkpoints\n",
      "2016-03-01  16:29                72 Untitled.ipynb\n",
      "               1 plik(˘w)                 72 bajt˘w\n",
      "               3 katalog(˘w)  108˙264˙247˙296 bajt˘w wolnych\n"
     ]
    }
   ],
   "source": [
    "%ls"
   ]
  },
  {
   "cell_type": "code",
   "execution_count": 3,
   "metadata": {
    "collapsed": false
   },
   "outputs": [
    {
     "name": "stdout",
     "output_type": "stream",
     "text": [
      "e:\\PROJ\\EDU\\kogni\n",
      " Wolumin w stacji E nie ma etykiety.\n",
      " Numer seryjny woluminu: 1D13-4B00\n",
      "\n",
      " Katalog: e:\\PROJ\\EDU\\kogni\n",
      "\n",
      "2016-03-01  16:28    <DIR>          .\n",
      "2016-03-01  16:28    <DIR>          ..\n",
      "2016-03-01  16:29    <DIR>          kod\n",
      "2016-03-01  16:28            10˙611 listob.xlsx\n",
      "2016-02-25  10:57             1˙336 literatura.md\n",
      "               2 plik(˘w)             11˙947 bajt˘w\n",
      "               3 katalog(˘w)  108˙264˙247˙296 bajt˘w wolnych\n"
     ]
    }
   ],
   "source": [
    "%cd ..\n",
    "%ls"
   ]
  },
  {
   "cell_type": "markdown",
   "metadata": {},
   "source": [
    "### Wczytujemy listę obecności"
   ]
  },
  {
   "cell_type": "code",
   "execution_count": 4,
   "metadata": {
    "collapsed": false
   },
   "outputs": [
    {
     "data": {
      "text/html": [
       "<div>\n",
       "<table border=\"1\" class=\"dataframe\">\n",
       "  <thead>\n",
       "    <tr style=\"text-align: right;\">\n",
       "      <th></th>\n",
       "      <th>Lp</th>\n",
       "      <th>Imię i nazwisko</th>\n",
       "      <th>Z0</th>\n",
       "      <th>Z1</th>\n",
       "      <th>Z2</th>\n",
       "      <th>Z3</th>\n",
       "      <th>Z4</th>\n",
       "      <th>Z5</th>\n",
       "      <th>Z6</th>\n",
       "      <th>Z7</th>\n",
       "    </tr>\n",
       "  </thead>\n",
       "  <tbody>\n",
       "    <tr>\n",
       "      <th>0</th>\n",
       "      <td>1</td>\n",
       "      <td>Borkowska Olga</td>\n",
       "      <td>1</td>\n",
       "      <td>NaN</td>\n",
       "      <td>NaN</td>\n",
       "      <td>NaN</td>\n",
       "      <td>NaN</td>\n",
       "      <td>NaN</td>\n",
       "      <td>NaN</td>\n",
       "      <td>NaN</td>\n",
       "    </tr>\n",
       "    <tr>\n",
       "      <th>1</th>\n",
       "      <td>2</td>\n",
       "      <td>Grabowska Sylwia</td>\n",
       "      <td>1</td>\n",
       "      <td>NaN</td>\n",
       "      <td>NaN</td>\n",
       "      <td>NaN</td>\n",
       "      <td>NaN</td>\n",
       "      <td>NaN</td>\n",
       "      <td>NaN</td>\n",
       "      <td>NaN</td>\n",
       "    </tr>\n",
       "    <tr>\n",
       "      <th>2</th>\n",
       "      <td>3</td>\n",
       "      <td>Grzebalski Marcin</td>\n",
       "      <td>1</td>\n",
       "      <td>NaN</td>\n",
       "      <td>NaN</td>\n",
       "      <td>NaN</td>\n",
       "      <td>NaN</td>\n",
       "      <td>NaN</td>\n",
       "      <td>NaN</td>\n",
       "      <td>NaN</td>\n",
       "    </tr>\n",
       "    <tr>\n",
       "      <th>3</th>\n",
       "      <td>4</td>\n",
       "      <td>Kałwiński Paweł</td>\n",
       "      <td>0</td>\n",
       "      <td>NaN</td>\n",
       "      <td>NaN</td>\n",
       "      <td>NaN</td>\n",
       "      <td>NaN</td>\n",
       "      <td>NaN</td>\n",
       "      <td>NaN</td>\n",
       "      <td>NaN</td>\n",
       "    </tr>\n",
       "    <tr>\n",
       "      <th>4</th>\n",
       "      <td>5</td>\n",
       "      <td>Kasprzak Karolina</td>\n",
       "      <td>1</td>\n",
       "      <td>NaN</td>\n",
       "      <td>NaN</td>\n",
       "      <td>NaN</td>\n",
       "      <td>NaN</td>\n",
       "      <td>NaN</td>\n",
       "      <td>NaN</td>\n",
       "      <td>NaN</td>\n",
       "    </tr>\n",
       "  </tbody>\n",
       "</table>\n",
       "</div>"
      ],
      "text/plain": [
       "   Lp    Imię i nazwisko  Z0  Z1  Z2  Z3  Z4  Z5  Z6  Z7\n",
       "0   1     Borkowska Olga   1 NaN NaN NaN NaN NaN NaN NaN\n",
       "1   2   Grabowska Sylwia   1 NaN NaN NaN NaN NaN NaN NaN\n",
       "2   3  Grzebalski Marcin   1 NaN NaN NaN NaN NaN NaN NaN\n",
       "3   4    Kałwiński Paweł   0 NaN NaN NaN NaN NaN NaN NaN\n",
       "4   5  Kasprzak Karolina   1 NaN NaN NaN NaN NaN NaN NaN"
      ]
     },
     "execution_count": 4,
     "metadata": {},
     "output_type": "execute_result"
    }
   ],
   "source": [
    "lista = pd.read_excel('listob.xlsx')\n",
    "lista.head()"
   ]
  },
  {
   "cell_type": "code",
   "execution_count": 5,
   "metadata": {
    "collapsed": true
   },
   "outputs": [],
   "source": [
    "# bierzemy kolumnę imię i nazwisko\n",
    "im_st = lista['Imię i nazwisko']"
   ]
  },
  {
   "cell_type": "code",
   "execution_count": 6,
   "metadata": {
    "collapsed": false
   },
   "outputs": [
    {
     "data": {
      "text/plain": [
       "0           Borkowska Olga\n",
       "1         Grabowska Sylwia\n",
       "2        Grzebalski Marcin\n",
       "3          Kałwiński Paweł\n",
       "4        Kasprzak Karolina\n",
       "5      Łęgowski Aleksander\n",
       "6             Mortas Kinga\n",
       "7     Myszkowska Magdalena\n",
       "8         Sroczyński Marek\n",
       "9            Toczyska Kaja\n",
       "10          Uliasz Martyna\n",
       "11            Ulińska Maja\n",
       "12        Zańczak Weronika\n",
       "13        Żurawska Justyna\n",
       "Name: Imię i nazwisko, dtype: object"
      ]
     },
     "execution_count": 6,
     "metadata": {},
     "output_type": "execute_result"
    }
   ],
   "source": [
    "im_st"
   ]
  },
  {
   "cell_type": "code",
   "execution_count": 10,
   "metadata": {
    "collapsed": false
   },
   "outputs": [
    {
     "data": {
      "text/plain": [
       "5    Mortas Kinga\n",
       "dtype: object"
      ]
     },
     "execution_count": 10,
     "metadata": {},
     "output_type": "execute_result"
    }
   ],
   "source": [
    "# losujemy najpierw strażników klasowych (bądź strażniczki klasowe)\n",
    "\n",
    "# jeden już się zgłosił - Grabowska Sylwia, więc jej nie będziemy losować\n",
    "# Justyna Żurawska zgłosiła się na kolejne zajęcia do tej roli, więc równiż jej nie losuję\n",
    "losuj_strazni = pd.Series([nm for nm in im_st if nm not in ['Grabowska Sylwia', 'Justyna Żurawska']])\n",
    "losuj_strazni.sample()"
   ]
  },
  {
   "cell_type": "code",
   "execution_count": 14,
   "metadata": {
    "collapsed": false
   },
   "outputs": [
    {
     "data": {
      "text/plain": [
       "7    Toczyska Kaja\n",
       "9     Ulińska Maja\n",
       "dtype: object"
      ]
     },
     "execution_count": 14,
     "metadata": {},
     "output_type": "execute_result"
    }
   ],
   "source": [
    "# na platformę jeszcze nikt się nie zgłaszał więc możemy losować ze wszystkich\n",
    "# oprócz Sylwii Grabowskiej i wybranej już Kingi\n",
    "usun = ['Grabowska Sylwia', 'Mortas Kinga']\n",
    "pd.Series([nm for nm in im_st if nm not in usun]).sample(n=2, replace=False)"
   ]
  },
  {
   "cell_type": "code",
   "execution_count": 15,
   "metadata": {
    "collapsed": false
   },
   "outputs": [
    {
     "data": {
      "text/plain": [
       "3    Kasprzak Karolina\n",
       "2      Kałwiński Paweł\n",
       "dtype: object"
      ]
     },
     "execution_count": 15,
     "metadata": {},
     "output_type": "execute_result"
    }
   ],
   "source": [
    "# jeszcze dwie osoby do prezentacji, tym razem usuwamy wybranych oraz osoby\n",
    "# już zgłoszone do prezentacji\n",
    "usun = ['Grabowska Sylwia', 'Mortas Kinga', 'Uliasz Martyna', 'Myszkowska Magdalena', 'Toczyska Kaja', 'Ulińska Maja']\n",
    "pd.Series([nm for nm in im_st if nm not in usun]).sample(n=2, replace=False)"
   ]
  },
  {
   "cell_type": "code",
   "execution_count": null,
   "metadata": {
    "collapsed": true
   },
   "outputs": [],
   "source": []
  }
 ],
 "metadata": {
  "kernelspec": {
   "display_name": "Python 3",
   "language": "python",
   "name": "python3"
  },
  "language_info": {
   "codemirror_mode": {
    "name": "ipython",
    "version": 3
   },
   "file_extension": ".py",
   "mimetype": "text/x-python",
   "name": "python",
   "nbconvert_exporter": "python",
   "pygments_lexer": "ipython3",
   "version": "3.4.4"
  }
 },
 "nbformat": 4,
 "nbformat_minor": 0
}
