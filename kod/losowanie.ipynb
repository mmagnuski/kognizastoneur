{
 "cells": [
  {
   "cell_type": "code",
   "execution_count": 1,
   "metadata": {
    "collapsed": true
   },
   "outputs": [],
   "source": [
    "import yaml"
   ]
  },
  {
   "cell_type": "code",
   "execution_count": 36,
   "metadata": {
    "collapsed": false
   },
   "outputs": [
    {
     "name": "stdout",
     "output_type": "stream",
     "text": [
      "e:\\proj\\edu\\kogni\\kod\n"
     ]
    }
   ],
   "source": [
    "%cd kod\n",
    "with open('role.yaml', encoding='utf-8') as f:\n",
    "    role = yaml.load(f)"
   ]
  },
  {
   "cell_type": "code",
   "execution_count": 37,
   "metadata": {
    "collapsed": false
   },
   "outputs": [
    {
     "data": {
      "text/plain": [
       "{'week_01': {'klasa': ['Mortas Kinga', 'Grabowska Sylwia'],\n",
       "  'platforma': ['Toczyska Kaja', 'Ulińska Maja'],\n",
       "  'prezentacja': ['Kasprzak Karolina', 'Kałwiński Paweł']},\n",
       " 'week_02': {'klasa': ['Toczyska Kaja', 'Żurawska Justyna'],\n",
       "  'platforma': ['Myszkowska Magdalena', 'Łęgowski Aleksander'],\n",
       "  'prezentacja': ['Zańczak Weronika', 'Mortas Kinga']},\n",
       " 'week_03': {'klasa': ['Borkowska Olga', 'None'],\n",
       "  'platforma': ['Zańczak Weronika', 'None'],\n",
       "  'prezentacja': ['Uliasz Martyna', 'Myszkowska Magda']},\n",
       " 'week_04': {'klasa': ['None', 'None'],\n",
       "  'platforma': ['Borkowska Olga', 'Grabowska Sylwia'],\n",
       "  'prezentacja': ['Ulińska Maja', 'Łęgowski Aleksander']},\n",
       " 'week_05': {'klasa': ['None', 'None'],\n",
       "  'platforma': ['None', 'None'],\n",
       "  'prezentacja': ['None', 'None']}}"
      ]
     },
     "execution_count": 37,
     "metadata": {},
     "output_type": "execute_result"
    }
   ],
   "source": [
    "role"
   ]
  },
  {
   "cell_type": "code",
   "execution_count": 38,
   "metadata": {
    "collapsed": false
   },
   "outputs": [],
   "source": [
    "all_klasa = list()\n",
    "weeks = list(role.keys())\n",
    "weeks.sort()"
   ]
  },
  {
   "cell_type": "code",
   "execution_count": 39,
   "metadata": {
    "collapsed": false
   },
   "outputs": [
    {
     "data": {
      "text/plain": [
       "['week_01', 'week_02', 'week_03', 'week_04', 'week_05']"
      ]
     },
     "execution_count": 39,
     "metadata": {},
     "output_type": "execute_result"
    }
   ],
   "source": [
    "weeks"
   ]
  },
  {
   "cell_type": "code",
   "execution_count": 40,
   "metadata": {
    "collapsed": false
   },
   "outputs": [
    {
     "data": {
      "text/plain": [
       "['Mortas Kinga',\n",
       " 'Grabowska Sylwia',\n",
       " 'Toczyska Kaja',\n",
       " 'Żurawska Justyna',\n",
       " 'Borkowska Olga',\n",
       " 'None',\n",
       " 'None',\n",
       " 'None',\n",
       " 'None',\n",
       " 'None']"
      ]
     },
     "execution_count": 40,
     "metadata": {},
     "output_type": "execute_result"
    }
   ],
   "source": [
    "take = 'klasa'\n",
    "for w in weeks:\n",
    "    all_klasa += role[w][take]\n",
    "all_klasa"
   ]
  },
  {
   "cell_type": "code",
   "execution_count": 41,
   "metadata": {
    "collapsed": false
   },
   "outputs": [],
   "source": [
    "# remove None\n",
    "ile_non = all_klasa.count('None')\n",
    "for i in range(ile_non):\n",
    "    all_klasa.remove('None')"
   ]
  },
  {
   "cell_type": "code",
   "execution_count": 42,
   "metadata": {
    "collapsed": false
   },
   "outputs": [
    {
     "data": {
      "text/plain": [
       "['Mortas Kinga',\n",
       " 'Grabowska Sylwia',\n",
       " 'Toczyska Kaja',\n",
       " 'Żurawska Justyna',\n",
       " 'Borkowska Olga']"
      ]
     },
     "execution_count": 42,
     "metadata": {},
     "output_type": "execute_result"
    }
   ],
   "source": [
    "all_klasa"
   ]
  },
  {
   "cell_type": "code",
   "execution_count": 43,
   "metadata": {
    "collapsed": false
   },
   "outputs": [
    {
     "name": "stdout",
     "output_type": "stream",
     "text": [
      "e:\\proj\\edu\\kogni\n"
     ]
    }
   ],
   "source": [
    "cd .."
   ]
  },
  {
   "cell_type": "code",
   "execution_count": 44,
   "metadata": {
    "collapsed": false
   },
   "outputs": [],
   "source": [
    "import pandas as pd\n",
    "df = pd.read_excel('listob.xlsx')"
   ]
  },
  {
   "cell_type": "code",
   "execution_count": 45,
   "metadata": {
    "collapsed": false
   },
   "outputs": [],
   "source": [
    "osoby = df.loc[:, 'Imię i nazwisko']"
   ]
  },
  {
   "cell_type": "code",
   "execution_count": 46,
   "metadata": {
    "collapsed": false
   },
   "outputs": [],
   "source": [
    "osoby = list(osoby)"
   ]
  },
  {
   "cell_type": "code",
   "execution_count": 47,
   "metadata": {
    "collapsed": false
   },
   "outputs": [
    {
     "data": {
      "text/plain": [
       "['Grzebalski Marcin',\n",
       " 'Kałwiński Paweł',\n",
       " 'Kasprzak Karolina',\n",
       " 'Łęgowski Aleksander',\n",
       " 'Myszkowska Magdalena',\n",
       " 'Sroczyński Marek',\n",
       " 'Uliasz Martyna',\n",
       " 'Ulińska Maja',\n",
       " 'Zańczak Weronika']"
      ]
     },
     "execution_count": 47,
     "metadata": {},
     "output_type": "execute_result"
    }
   ],
   "source": [
    "# usuwamy osoby, które już były:\n",
    "for name in all_klasa:\n",
    "    osoby.remove(name)\n",
    "osoby"
   ]
  },
  {
   "cell_type": "code",
   "execution_count": 48,
   "metadata": {
    "collapsed": false
   },
   "outputs": [
    {
     "data": {
      "text/plain": [
       "['Kasprzak Karolina', 'Grzebalski Marcin']"
      ]
     },
     "execution_count": 48,
     "metadata": {},
     "output_type": "execute_result"
    }
   ],
   "source": [
    "import random\n",
    "random.sample(osoby, 2)"
   ]
  },
  {
   "cell_type": "code",
   "execution_count": null,
   "metadata": {
    "collapsed": true
   },
   "outputs": [],
   "source": []
  }
 ],
 "metadata": {
  "kernelspec": {
   "display_name": "Python 3",
   "language": "python",
   "name": "python3"
  },
  "language_info": {
   "codemirror_mode": {
    "name": "ipython",
    "version": 3
   },
   "file_extension": ".py",
   "mimetype": "text/x-python",
   "name": "python",
   "nbconvert_exporter": "python",
   "pygments_lexer": "ipython3",
   "version": "3.4.4"
  }
 },
 "nbformat": 4,
 "nbformat_minor": 0
}
